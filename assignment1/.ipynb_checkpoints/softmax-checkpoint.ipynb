{
 "cells": [
  {
   "cell_type": "markdown",
   "metadata": {
    "tags": [
     "pdf-title"
    ]
   },
   "source": [
    "# Softmax exercise\n",
    "\n",
    "*Complete and hand in this completed worksheet (including its outputs and any supporting code outside of the worksheet) with your assignment submission. For more details see the [assignments page](http://vision.stanford.edu/teaching/cs231n/assignments.html) on the course website.*\n",
    "\n",
    "This exercise is analogous to the SVM exercise. You will:\n",
    "\n",
    "- implement a fully-vectorized **loss function** for the Softmax classifier\n",
    "- implement the fully-vectorized expression for its **analytic gradient**\n",
    "- **check your implementation** with numerical gradient\n",
    "- use a validation set to **tune the learning rate and regularization** strength\n",
    "- **optimize** the loss function with **SGD**\n",
    "- **visualize** the final learned weights\n"
   ]
  },
  {
   "cell_type": "code",
   "execution_count": 1,
   "metadata": {
    "tags": [
     "pdf-ignore"
    ]
   },
   "outputs": [],
   "source": [
    "import random\n",
    "import numpy as np\n",
    "from cs231n.data_utils import load_CIFAR10\n",
    "import matplotlib.pyplot as plt\n",
    "\n",
    "%matplotlib inline\n",
    "plt.rcParams['figure.figsize'] = (10.0, 8.0) # set default size of plots\n",
    "plt.rcParams['image.interpolation'] = 'nearest'\n",
    "plt.rcParams['image.cmap'] = 'gray'\n",
    "\n",
    "# for auto-reloading extenrnal modules\n",
    "# see http://stackoverflow.com/questions/1907993/autoreload-of-modules-in-ipython\n",
    "%load_ext autoreload\n",
    "%autoreload 2"
   ]
  },
  {
   "cell_type": "code",
   "execution_count": 2,
   "metadata": {
    "tags": [
     "pdf-ignore"
    ]
   },
   "outputs": [
    {
     "name": "stdout",
     "output_type": "stream",
     "text": [
      "Train data shape:  (49000, 3073)\n",
      "Train labels shape:  (49000,)\n",
      "Validation data shape:  (1000, 3073)\n",
      "Validation labels shape:  (1000,)\n",
      "Test data shape:  (1000, 3073)\n",
      "Test labels shape:  (1000,)\n",
      "dev data shape:  (500, 3073)\n",
      "dev labels shape:  (500,)\n"
     ]
    }
   ],
   "source": [
    "def get_CIFAR10_data(num_training=49000, num_validation=1000, num_test=1000, num_dev=500):\n",
    "    \"\"\"\n",
    "    Load the CIFAR-10 dataset from disk and perform preprocessing to prepare\n",
    "    it for the linear classifier. These are the same steps as we used for the\n",
    "    SVM, but condensed to a single function.  \n",
    "    \"\"\"\n",
    "    # Load the raw CIFAR-10 data\n",
    "    cifar10_dir = 'cs231n/datasets/cifar-10-batches-py'\n",
    "    \n",
    "    # Cleaning up variables to prevent loading data multiple times (which may cause memory issue)\n",
    "    try:\n",
    "       del X_train, y_train\n",
    "       del X_test, y_test\n",
    "       print('Clear previously loaded data.')\n",
    "    except:\n",
    "       pass\n",
    "\n",
    "    X_train, y_train, X_test, y_test = load_CIFAR10(cifar10_dir)\n",
    "    \n",
    "    # subsample the data\n",
    "    mask = list(range(num_training, num_training + num_validation))\n",
    "    X_val = X_train[mask]\n",
    "    y_val = y_train[mask]\n",
    "    mask = list(range(num_training))\n",
    "    X_train = X_train[mask]\n",
    "    y_train = y_train[mask]\n",
    "    mask = list(range(num_test))\n",
    "    X_test = X_test[mask]\n",
    "    y_test = y_test[mask]\n",
    "    mask = np.random.choice(num_training, num_dev, replace=False)\n",
    "    X_dev = X_train[mask]\n",
    "    y_dev = y_train[mask]\n",
    "    \n",
    "    # Preprocessing: reshape the image data into rows\n",
    "    X_train = np.reshape(X_train, (X_train.shape[0], -1))\n",
    "    X_val = np.reshape(X_val, (X_val.shape[0], -1))\n",
    "    X_test = np.reshape(X_test, (X_test.shape[0], -1))\n",
    "    X_dev = np.reshape(X_dev, (X_dev.shape[0], -1))\n",
    "    \n",
    "    # Normalize the data: subtract the mean image\n",
    "    mean_image = np.mean(X_train, axis = 0)\n",
    "    X_train -= mean_image\n",
    "    X_val -= mean_image\n",
    "    X_test -= mean_image\n",
    "    X_dev -= mean_image\n",
    "    \n",
    "    # add bias dimension and transform into columns\n",
    "    X_train = np.hstack([X_train, np.ones((X_train.shape[0], 1))])\n",
    "    X_val = np.hstack([X_val, np.ones((X_val.shape[0], 1))])\n",
    "    X_test = np.hstack([X_test, np.ones((X_test.shape[0], 1))])\n",
    "    X_dev = np.hstack([X_dev, np.ones((X_dev.shape[0], 1))])\n",
    "    \n",
    "    return X_train, y_train, X_val, y_val, X_test, y_test, X_dev, y_dev\n",
    "\n",
    "\n",
    "# Invoke the above function to get our data.\n",
    "X_train, y_train, X_val, y_val, X_test, y_test, X_dev, y_dev = get_CIFAR10_data()\n",
    "print('Train data shape: ', X_train.shape)\n",
    "print('Train labels shape: ', y_train.shape)\n",
    "print('Validation data shape: ', X_val.shape)\n",
    "print('Validation labels shape: ', y_val.shape)\n",
    "print('Test data shape: ', X_test.shape)\n",
    "print('Test labels shape: ', y_test.shape)\n",
    "print('dev data shape: ', X_dev.shape)\n",
    "print('dev labels shape: ', y_dev.shape)"
   ]
  },
  {
   "cell_type": "markdown",
   "metadata": {},
   "source": [
    "## Softmax Classifier\n",
    "\n",
    "Your code for this section will all be written inside `cs231n/classifiers/softmax.py`.\n"
   ]
  },
  {
   "cell_type": "code",
   "execution_count": 21,
   "metadata": {},
   "outputs": [
    {
     "name": "stdout",
     "output_type": "stream",
     "text": [
      "loss: 2.346768\n",
      "sanity check: 2.302585\n"
     ]
    }
   ],
   "source": [
    "# First implement the naive softmax loss function with nested loops.\n",
    "# Open the file cs231n/classifiers/softmax.py and implement the\n",
    "# softmax_loss_naive function.\n",
    "\n",
    "from cs231n.classifiers.softmax import softmax_loss_naive\n",
    "import time\n",
    "\n",
    "# Generate a random softmax weight matrix and use it to compute the loss.\n",
    "W = np.random.randn(3073, 10) * 0.0001\n",
    "loss, grad = softmax_loss_naive(W, X_dev, y_dev, 0.0)\n",
    "\n",
    "# As a rough sanity check, our loss should be something close to -log(0.1).\n",
    "print('loss: %f' % loss)\n",
    "print('sanity check: %f' % (-np.log(0.1)))"
   ]
  },
  {
   "cell_type": "markdown",
   "metadata": {
    "tags": [
     "pdf-inline"
    ]
   },
   "source": [
    "**Inline Question 1**\n",
    "\n",
    "**Why do we expect our loss to be close to -log(0.1)? Explain briefly.**\n",
    "\n",
    "$\\color{blue}{\\textit Your Answer:}$ \n",
    "\n",
    "在未优化权重之前，每个类别的概率都是$\\frac{1}{10}$,因此loss趋于-log0.1\n",
    "\n"
   ]
  },
  {
   "cell_type": "code",
   "execution_count": 23,
   "metadata": {},
   "outputs": [
    {
     "name": "stdout",
     "output_type": "stream",
     "text": [
      "numerical: -2.407855 analytic: -2.407856, relative error: 3.105268e-09\n",
      "numerical: 1.032690 analytic: 1.032690, relative error: 1.504456e-08\n",
      "numerical: -0.435362 analytic: -0.435362, relative error: 1.280066e-07\n",
      "numerical: 2.659824 analytic: 2.659824, relative error: 1.057117e-08\n",
      "numerical: 0.285331 analytic: 0.285331, relative error: 3.663093e-08\n",
      "numerical: -0.908570 analytic: -0.908570, relative error: 5.667333e-08\n",
      "numerical: 1.054457 analytic: 1.054457, relative error: 1.608705e-08\n",
      "numerical: -1.175830 analytic: -1.175830, relative error: 6.026742e-08\n",
      "numerical: 0.156912 analytic: 0.156912, relative error: 7.647084e-08\n",
      "numerical: 0.815632 analytic: 0.815632, relative error: 1.247736e-08\n",
      "numerical: 1.460127 analytic: 1.457722, relative error: 8.240284e-04\n",
      "numerical: 0.203839 analytic: 0.207295, relative error: 8.405591e-03\n",
      "numerical: -2.377432 analytic: -2.380246, relative error: 5.913338e-04\n",
      "numerical: 0.613314 analytic: 0.613837, relative error: 4.262020e-04\n",
      "numerical: 0.375332 analytic: 0.376532, relative error: 1.596337e-03\n",
      "numerical: -1.498909 analytic: -1.492045, relative error: 2.294968e-03\n",
      "numerical: 4.163351 analytic: 4.156177, relative error: 8.623259e-04\n",
      "numerical: 0.213954 analytic: 0.218653, relative error: 1.086240e-02\n",
      "numerical: 0.828372 analytic: 0.823357, relative error: 3.035903e-03\n",
      "numerical: 0.223664 analytic: 0.227894, relative error: 9.366933e-03\n"
     ]
    }
   ],
   "source": [
    "# Complete the implementation of softmax_loss_naive and implement a (naive)\n",
    "# version of the gradient that uses nested loops.\n",
    "loss, grad = softmax_loss_naive(W, X_dev, y_dev, 0.0)\n",
    "\n",
    "# As we did for the SVM, use numeric gradient checking as a debugging tool.\n",
    "# The numeric gradient should be close to the analytic gradient.\n",
    "from cs231n.gradient_check import grad_check_sparse\n",
    "f = lambda w: softmax_loss_naive(w, X_dev, y_dev, 0.0)[0]\n",
    "grad_numerical = grad_check_sparse(f, W, grad, 10)\n",
    "\n",
    "# similar to SVM case, do another gradient check with regularization\n",
    "loss, grad = softmax_loss_naive(W, X_dev, y_dev, 5e1)\n",
    "f = lambda w: softmax_loss_naive(w, X_dev, y_dev, 5e1)[0]\n",
    "grad_numerical = grad_check_sparse(f, W, grad, 10)"
   ]
  },
  {
   "cell_type": "code",
   "execution_count": 29,
   "metadata": {},
   "outputs": [
    {
     "name": "stdout",
     "output_type": "stream",
     "text": [
      "naive loss: 2.346768e+00 computed in 0.010955s\n",
      "vectorized loss: 2.346768e+00 computed in 0.002007s\n",
      "Loss difference: 0.000000\n",
      "Gradient difference: 0.000000\n"
     ]
    }
   ],
   "source": [
    "# Now that we have a naive implementation of the softmax loss function and its gradient,\n",
    "# implement a vectorized version in softmax_loss_vectorized.\n",
    "# The two versions should compute the same results, but the vectorized version should be\n",
    "# much faster.\n",
    "tic = time.time()\n",
    "loss_naive, grad_naive = softmax_loss_naive(W, X_dev, y_dev, 0.000005)\n",
    "toc = time.time()\n",
    "print('naive loss: %e computed in %fs' % (loss_naive, toc - tic))\n",
    "\n",
    "from cs231n.classifiers.softmax import softmax_loss_vectorized\n",
    "tic = time.time()\n",
    "loss_vectorized, grad_vectorized = softmax_loss_vectorized(W, X_dev, y_dev, 0.000005)\n",
    "toc = time.time()\n",
    "print('vectorized loss: %e computed in %fs' % (loss_vectorized, toc - tic))\n",
    "\n",
    "# As we did for the SVM, we use the Frobenius norm to compare the two versions\n",
    "# of the gradient.\n",
    "grad_difference = np.linalg.norm(grad_naive - grad_vectorized, ord='fro')\n",
    "print('Loss difference: %f' % np.abs(loss_naive - loss_vectorized))\n",
    "print('Gradient difference: %f' % grad_difference)"
   ]
  },
  {
   "cell_type": "code",
   "execution_count": 32,
   "metadata": {
    "id": "tuning",
    "tags": [
     "code"
    ]
   },
   "outputs": [
    {
     "name": "stdout",
     "output_type": "stream",
     "text": [
      "iteration 0 / 3000: loss 772.495391\n",
      "iteration 100 / 3000: loss 466.160263\n",
      "iteration 200 / 3000: loss 282.470748\n",
      "iteration 300 / 3000: loss 171.640089\n",
      "iteration 400 / 3000: loss 104.524197\n",
      "iteration 500 / 3000: loss 64.046497\n",
      "iteration 600 / 3000: loss 39.644811\n",
      "iteration 700 / 3000: loss 24.842645\n",
      "iteration 800 / 3000: loss 15.919151\n",
      "iteration 900 / 3000: loss 10.399069\n",
      "iteration 1000 / 3000: loss 7.182379\n",
      "iteration 1100 / 3000: loss 5.240630\n",
      "iteration 1200 / 3000: loss 4.003201\n",
      "iteration 1300 / 3000: loss 3.270373\n",
      "iteration 1400 / 3000: loss 2.827454\n",
      "iteration 1500 / 3000: loss 2.593141\n",
      "iteration 1600 / 3000: loss 2.349955\n",
      "iteration 1700 / 3000: loss 2.202399\n",
      "iteration 1800 / 3000: loss 2.230368\n",
      "iteration 1900 / 3000: loss 2.126193\n",
      "iteration 2000 / 3000: loss 2.151647\n",
      "iteration 2100 / 3000: loss 2.027051\n",
      "iteration 2200 / 3000: loss 2.142191\n",
      "iteration 2300 / 3000: loss 2.120691\n",
      "iteration 2400 / 3000: loss 2.108292\n",
      "iteration 2500 / 3000: loss 2.141259\n",
      "iteration 2600 / 3000: loss 2.126843\n",
      "iteration 2700 / 3000: loss 2.050929\n",
      "iteration 2800 / 3000: loss 2.172446\n",
      "iteration 2900 / 3000: loss 2.183232\n",
      "iteration 0 / 3000: loss 1533.083680\n",
      "iteration 100 / 3000: loss 562.387871\n",
      "iteration 200 / 3000: loss 207.276792\n",
      "iteration 300 / 3000: loss 77.191101\n",
      "iteration 400 / 3000: loss 29.745503\n",
      "iteration 500 / 3000: loss 12.211332\n",
      "iteration 600 / 3000: loss 5.915891\n",
      "iteration 700 / 3000: loss 3.515515\n",
      "iteration 800 / 3000: loss 2.739058\n",
      "iteration 900 / 3000: loss 2.404030\n",
      "iteration 1000 / 3000: loss 2.178850\n",
      "iteration 1100 / 3000: loss 2.172090\n",
      "iteration 1200 / 3000: loss 2.115671\n",
      "iteration 1300 / 3000: loss 2.244061\n",
      "iteration 1400 / 3000: loss 2.165105\n",
      "iteration 1500 / 3000: loss 2.140592\n",
      "iteration 1600 / 3000: loss 2.162001\n",
      "iteration 1700 / 3000: loss 2.166892\n",
      "iteration 1800 / 3000: loss 2.198495\n",
      "iteration 1900 / 3000: loss 2.152612\n",
      "iteration 2000 / 3000: loss 2.192197\n",
      "iteration 2100 / 3000: loss 2.148039\n",
      "iteration 2200 / 3000: loss 2.184208\n",
      "iteration 2300 / 3000: loss 2.205626\n",
      "iteration 2400 / 3000: loss 2.163901\n",
      "iteration 2500 / 3000: loss 2.110513\n",
      "iteration 2600 / 3000: loss 2.186087\n",
      "iteration 2700 / 3000: loss 2.223645\n",
      "iteration 2800 / 3000: loss 2.130415\n",
      "iteration 2900 / 3000: loss 2.212470\n",
      "iteration 0 / 3000: loss 780.265822\n",
      "iteration 100 / 3000: loss 64.159897\n",
      "iteration 200 / 3000: loss 7.111285\n",
      "iteration 300 / 3000: loss 2.552451\n",
      "iteration 400 / 3000: loss 2.151957\n",
      "iteration 500 / 3000: loss 2.143050\n",
      "iteration 600 / 3000: loss 2.090517\n",
      "iteration 700 / 3000: loss 2.105300\n",
      "iteration 800 / 3000: loss 2.183702\n",
      "iteration 900 / 3000: loss 2.174980\n",
      "iteration 1000 / 3000: loss 2.052094\n",
      "iteration 1100 / 3000: loss 2.130384\n",
      "iteration 1200 / 3000: loss 2.160772\n",
      "iteration 1300 / 3000: loss 2.138205\n",
      "iteration 1400 / 3000: loss 2.187181\n",
      "iteration 1500 / 3000: loss 2.107212\n",
      "iteration 1600 / 3000: loss 2.147313\n",
      "iteration 1700 / 3000: loss 2.161848\n",
      "iteration 1800 / 3000: loss 2.115466\n",
      "iteration 1900 / 3000: loss 2.100529\n",
      "iteration 2000 / 3000: loss 2.144215\n",
      "iteration 2100 / 3000: loss 2.089917\n",
      "iteration 2200 / 3000: loss 2.147288\n",
      "iteration 2300 / 3000: loss 2.065554\n",
      "iteration 2400 / 3000: loss 2.024926\n",
      "iteration 2500 / 3000: loss 2.098678\n",
      "iteration 2600 / 3000: loss 2.102839\n",
      "iteration 2700 / 3000: loss 2.093958\n",
      "iteration 2800 / 3000: loss 2.166933\n",
      "iteration 2900 / 3000: loss 2.059991\n",
      "iteration 0 / 3000: loss 1550.868811\n",
      "iteration 100 / 3000: loss 11.776609\n",
      "iteration 200 / 3000: loss 2.227956\n",
      "iteration 300 / 3000: loss 2.265195\n",
      "iteration 400 / 3000: loss 2.144523\n",
      "iteration 500 / 3000: loss 2.195270\n",
      "iteration 600 / 3000: loss 2.160946\n",
      "iteration 700 / 3000: loss 2.185766\n",
      "iteration 800 / 3000: loss 2.145635\n",
      "iteration 900 / 3000: loss 2.148987\n",
      "iteration 1000 / 3000: loss 2.186325\n",
      "iteration 1100 / 3000: loss 2.181235\n",
      "iteration 1200 / 3000: loss 2.202433\n",
      "iteration 1300 / 3000: loss 2.297686\n",
      "iteration 1400 / 3000: loss 2.183573\n",
      "iteration 1500 / 3000: loss 2.194397\n",
      "iteration 1600 / 3000: loss 2.204751\n",
      "iteration 1700 / 3000: loss 2.199320\n",
      "iteration 1800 / 3000: loss 2.155896\n",
      "iteration 1900 / 3000: loss 2.234024\n",
      "iteration 2000 / 3000: loss 2.191515\n",
      "iteration 2100 / 3000: loss 2.170315\n",
      "iteration 2200 / 3000: loss 2.200773\n",
      "iteration 2300 / 3000: loss 2.174573\n",
      "iteration 2400 / 3000: loss 2.229021\n",
      "iteration 2500 / 3000: loss 2.179693\n",
      "iteration 2600 / 3000: loss 2.189155\n",
      "iteration 2700 / 3000: loss 2.169710\n",
      "iteration 2800 / 3000: loss 2.221552\n",
      "iteration 2900 / 3000: loss 2.150700\n",
      "lr 1.000000e-07 reg 2.500000e+04 train accuracy: 0.349592 val accuracy: 0.362000\n",
      "lr 1.000000e-07 reg 5.000000e+04 train accuracy: 0.326510 val accuracy: 0.342000\n",
      "lr 5.000000e-07 reg 2.500000e+04 train accuracy: 0.350143 val accuracy: 0.348000\n",
      "lr 5.000000e-07 reg 5.000000e+04 train accuracy: 0.332163 val accuracy: 0.337000\n",
      "best validation accuracy achieved during cross-validation: 0.362000\n"
     ]
    }
   ],
   "source": [
    "# Use the validation set to tune hyperparameters (regularization strength and\n",
    "# learning rate). You should experiment with different ranges for the learning\n",
    "# rates and regularization strengths; if you are careful you should be able to\n",
    "# get a classification accuracy of over 0.35 on the validation set.\n",
    "\n",
    "from cs231n.classifiers import Softmax\n",
    "results = {}\n",
    "best_val = -1\n",
    "best_softmax = None\n",
    "\n",
    "################################################################################\n",
    "# TODO:                                                                        #\n",
    "# Use the validation set to set the learning rate and regularization strength. #\n",
    "# This should be identical to the validation that you did for the SVM; save    #\n",
    "# the best trained softmax classifer in best_softmax.                          #\n",
    "################################################################################\n",
    "\n",
    "# Provided as a reference. You may or may not want to change these hyperparameters\n",
    "learning_rates = [1e-7, 5e-7]\n",
    "regularization_strengths = [2.5e4, 5e4]\n",
    "\n",
    "# *****START OF YOUR CODE (DO NOT DELETE/MODIFY THIS LINE)*****\n",
    "for rate in learning_rates:\n",
    "    for strength in regularization_strengths:\n",
    "        soft = Softmax()\n",
    "        loss_hist = soft.train(X_train, y_train, learning_rate=rate, reg=strength,\n",
    "                      num_iters=3000, verbose=True)\n",
    "        y_train_pred = soft.predict(X_train)\n",
    "        train_accuracy = np.mean(y_train == y_train_pred)\n",
    "        y_val_pred = soft.predict(X_val)\n",
    "        val_accuracy = np.mean(y_val == y_val_pred)\n",
    "        results[(rate,strength)] = (train_accuracy,val_accuracy)\n",
    "        if (val_accuracy > best_val):\n",
    "            best_val = val_accuracy\n",
    "            best_softmax = soft\n",
    "pass\n",
    "\n",
    "# *****END OF YOUR CODE (DO NOT DELETE/MODIFY THIS LINE)*****\n",
    "    \n",
    "# Print out results.\n",
    "for lr, reg in sorted(results):\n",
    "    train_accuracy, val_accuracy = results[(lr, reg)]\n",
    "    print('lr %e reg %e train accuracy: %f val accuracy: %f' % (\n",
    "                lr, reg, train_accuracy, val_accuracy))\n",
    "    \n",
    "print('best validation accuracy achieved during cross-validation: %f' % best_val)"
   ]
  },
  {
   "cell_type": "code",
   "execution_count": 33,
   "metadata": {
    "id": "test"
   },
   "outputs": [
    {
     "name": "stdout",
     "output_type": "stream",
     "text": [
      "softmax on raw pixels final test set accuracy: 0.369000\n"
     ]
    }
   ],
   "source": [
    "# evaluate on test set\n",
    "# Evaluate the best softmax on test set\n",
    "y_test_pred = best_softmax.predict(X_test)\n",
    "test_accuracy = np.mean(y_test == y_test_pred)\n",
    "print('softmax on raw pixels final test set accuracy: %f' % (test_accuracy, ))"
   ]
  },
  {
   "cell_type": "markdown",
   "metadata": {
    "tags": [
     "pdf-inline"
    ]
   },
   "source": [
    "**Inline Question 2** - *True or False*\n",
    "\n",
    "Suppose the overall training loss is defined as the sum of the per-datapoint loss over all training examples. It is possible to add a new datapoint to a training set that would leave the SVM loss unchanged, but this is not the case with the Softmax classifier loss.\n",
    "\n",
    "$\\color{blue}{\\textit Your Answer:}$\n",
    "\n",
    "正确\n",
    "\n",
    "$\\color{blue}{\\textit Your Explanation:}$\n",
    "\n",
    "对于SVM分类器而言，只要新加入的图像的对应类别得分最高且比其他至少多1(bias)，则图像分类正确且loss为0，从而不会改变${\\textit overall\\ training\\ loss}$,但对于softmax而言，由于得分均为有限数，loss一定存在且大于0，一定会引起${\\textit overall\\ training\\ loss}$的改变\n",
    "\n"
   ]
  },
  {
   "cell_type": "code",
   "execution_count": 34,
   "metadata": {},
   "outputs": [
    {
     "data": {
      "image/png": "[encoded data removed]",
      "text/plain": [
       "<Figure size 720x576 with 10 Axes>"
      ]
     },
     "metadata": {
      "needs_background": "light"
     },
     "output_type": "display_data"
    }
   ],
   "source": [
    "# Visualize the learned weights for each class\n",
    "w = best_softmax.W[:-1,:] # strip out the bias\n",
    "w = w.reshape(32, 32, 3, 10)\n",
    "\n",
    "w_min, w_max = np.min(w), np.max(w)\n",
    "\n",
    "classes = ['plane', 'car', 'bird', 'cat', 'deer', 'dog', 'frog', 'horse', 'ship', 'truck']\n",
    "for i in range(10):\n",
    "    plt.subplot(2, 5, i + 1)\n",
    "    \n",
    "    # Rescale the weights to be between 0 and 255\n",
    "    wimg = 255.0 * (w[:, :, :, i].squeeze() - w_min) / (w_max - w_min)\n",
    "    plt.imshow(wimg.astype('uint8'))\n",
    "    plt.axis('off')\n",
    "    plt.title(classes[i])"
   ]
  },
  {
   "cell_type": "code",
   "execution_count": null,
   "metadata": {},
   "outputs": [],
   "source": []
  }
 ],
 "metadata": {
  "kernelspec": {
   "display_name": "Python 3 (ipykernel)",
   "language": "python",
   "name": "python3"
  },
  "language_info": {
   "codemirror_mode": {
    "name": "ipython",
    "version": 3
   },
   "file_extension": ".py",
   "mimetype": "text/x-python",
   "name": "python",
   "nbconvert_exporter": "python",
   "pygments_lexer": "ipython3",
   "version": "3.9.7"
  }
 },
 "nbformat": 4,
 "nbformat_minor": 1
}
